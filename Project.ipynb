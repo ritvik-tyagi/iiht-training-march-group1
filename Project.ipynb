{
 "cells": [
  {
   "cell_type": "markdown",
   "id": "b61b5f4a-7a02-4c47-b713-27634c3015cf",
   "metadata": {},
   "source": [
    "# Retail Sales Data Analysis"
   ]
  },
  {
   "cell_type": "markdown",
   "id": "a1e8f437-e7e6-4dc0-85c3-d07e437bd44a",
   "metadata": {},
   "source": [
    "## Import Libraries and Establish Database Connection"
   ]
  },
  {
   "cell_type": "code",
   "execution_count": null,
   "id": "a9a75406-66c4-4194-8e4f-d027a7eff102",
   "metadata": {},
   "outputs": [],
   "source": [
    "# Importing the pyodbc module for connecting to SQL Server\n",
    "import pyodbc\n",
    "# Importing pandas library for data manipulation\n",
    "import pandas as pd\n",
    "\n",
    "# Define the server name and database name\n",
    "server = 'IN3549317W1'  # or your server name\n",
    "database = 'RetailSales'  # your database name\n",
    "\n",
    "# Establish a connection to the SQL Server using pyodbc\n",
    "cnxn = pyodbc.connect('DRIVER={ODBC Driver 17 for SQL Server};SERVER=' + server + ';DATABASE=' + database + ';Trusted_Connection=yes;')\n",
    "# Create a cursor object to execute SQL queries\n",
    "cursor = cnxn.cursor()\n",
    "# Print the cursor object (optional, for verification)\n",
    "print(cursor)"
   ]
  },
  {
   "cell_type": "markdown",
   "id": "3c65941c-f8d1-45ce-8d75-dcd7b0bf49e5",
   "metadata": {},
   "source": [
    "## Importing the Retail Sales - Data"
   ]
  },
  {
   "cell_type": "code",
   "execution_count": null,
   "id": "fcac417d-756b-4ad9-86d4-7f063d0e9753",
   "metadata": {},
   "outputs": [],
   "source": [
    "# Read the Excel file \"Retail_Brands.xlsx\" into a pandas DataFrame\n",
    "df_Retail_Brands = pd.read_excel(\"Retail_Brands.xlsx\")"
   ]
  },
  {
   "cell_type": "code",
   "execution_count": null,
   "id": "80dd7ffd-99cc-47b2-831e-a139e06e520f",
   "metadata": {},
   "outputs": [],
   "source": [
    "# Display the first few rows of the DataFrame\n",
    "df_Retail_Brands.head()"
   ]
  },
  {
   "cell_type": "code",
   "execution_count": null,
   "id": "62814d77-5109-4324-b443-6d86ecc82762",
   "metadata": {},
   "outputs": [],
   "source": [
    "# Read the Excel file \"Retail_Employees.xlsx\" into a pandas DataFrame\n",
    "df_Retail_Employees = pd.read_excel(\"Retail_Employees.xlsx\")\n",
    "\n",
    "# Display information about the DataFrame (e.g., column names, data types)\n",
    "df_Retail_Employees.info()"
   ]
  },
  {
   "cell_type": "code",
   "execution_count": null,
   "id": "7741c67b-c26c-4410-9d71-d56e27be1d41",
   "metadata": {},
   "outputs": [],
   "source": [
    "# Read the Excel file \"Retail_Categories.xlsx\" into a pandas DataFrame\n",
    "df_Retail_Categories = pd.read_excel(\"Retail_Categories.xlsx\")\n",
    "\n",
    "# Read the Excel file \"Retail_Stores.xlsx\" into a pandas DataFrame\n",
    "df_Retail_Stores = pd.read_excel(\"Retail_Stores.xlsx\")\n",
    "\n",
    "# Display the column names of the DataFrame\n",
    "df_Retail_Stores.columns\n",
    "\n",
    "# Read the Excel file \"Retail_Sales.xlsx\" into a pandas DataFrame\n",
    "df_Retail_Sales = pd.read_excel(\"Retail_Sales.xlsx\")\n",
    "\n",
    "# Display the first few rows of the DataFrame\n",
    "df_Retail_Sales.head()\n",
    "\n",
    "# Read the Excel file \"Retail_Products.xlsx\" into a pandas DataFrame\n",
    "df_Retail_Products = pd.read_excel(\"Retail_Products.xlsx\")\n",
    "\n",
    "# Display the column names of the DataFrame\n",
    "df_Retail_Products.columns\n",
    "\n",
    "# Read the Excel file \"Retail_Customers.xlsx\" into a pandas DataFrame\n",
    "df_Retail_Customers = pd.read_excel(\"Retail_Customers.xlsx\")\n",
    "\n",
    "# Display information about the DataFrame (e.g., column names, data types)\n",
    "df_Retail_Customers.info()"
   ]
  },
  {
   "cell_type": "markdown",
   "id": "791ae11e-93ce-4925-b680-0d177ee9f99e",
   "metadata": {},
   "source": [
    "# Staging"
   ]
  },
  {
   "cell_type": "markdown",
   "id": "6448d31b-e12d-4be1-98bc-e6adad738872",
   "metadata": {},
   "source": [
    "### Insert Data into Staging Tables"
   ]
  },
  {
   "cell_type": "code",
   "execution_count": null,
   "id": "9ecdf18e-29b6-4242-b3ec-2b88b6b5d9b8",
   "metadata": {},
   "outputs": [],
   "source": [
    "# Define an SQL INSERT statement for inserting data into the staging.retail_stores table\n",
    "insert_Retail_Stores = \"\"\"INSERT INTO staging.Retail_Stores(StoreID, StoreName, Address,City, State, ZipCode,ManagerID) VALUES(?,?,?,?,?,?,?)\"\"\"\n",
    "\n",
    "# Iterate through rows in the DataFrame and execute the INSERT statement for each row\n",
    "for _, row in df_Retail_Stores.iterrows():\n",
    "    cursor.execute(insert_Retail_Stores, row['StoreID'], row['StoreName'],row['Address'],row['City'],row['State'],row['ZipCode'], row['ManagerID'])\n",
    "\n",
    "# Commit the changes to the database\n",
    "cnxn.commit()"
   ]
  },
  {
   "cell_type": "code",
   "execution_count": null,
   "id": "e68eb51c-404f-4754-81fc-9969e050c101",
   "metadata": {},
   "outputs": [],
   "source": [
    "# Define an SQL INSERT statement for inserting data into the staging.Retail_Brands table\n",
    "insert_Retail_Brands = \"\"\"INSERT INTO staging.Retail_Brands VALUES(?,?,?)\"\"\"\n",
    "\n",
    "# Iterate through rows in the DataFrame and execute the INSERT statement for each row\n",
    "for _, row in df_Retail_Brands.iterrows():\n",
    "    cursor.execute(insert_Retail_Brands, row['BrandID'], row['BrandName'],row['Description'])\n",
    "\n",
    "# Commit the changes to the database\n",
    "cnxn.commit()"
   ]
  },
  {
   "cell_type": "code",
   "execution_count": null,
   "id": "f38a7892-2ebb-4979-9cd1-fa1ca934816f",
   "metadata": {},
   "outputs": [],
   "source": [
    "# Similar INSERT statements are repeated for other tables like staging.Retail_Sales, staging.Retail_Products, staging.Retail_Categories, staging.Retail_Employees, staging.Retail_Customers, etc.\n",
    "\n",
    "insert_Retail_Sales = \"\"\"INSERT INTO staging.Retail_Sales VALUES(?,?,?,?,?,?,?,?)\"\"\"\n",
    "for _, row in df_Retail_Sales.iterrows():\n",
    "    cursor.execute(insert_Retail_Sales, row['TransactionID'], row['CustomerID'],row['ProductID'],row['Quantity'],row['UnitPrice'],row['TotalAmount'],row['TransactionDate'],row['StoreID'])\n",
    "\n",
    "cnxn.commit()"
   ]
  },
  {
   "cell_type": "code",
   "execution_count": null,
   "id": "14c467a6-1120-484d-aec1-fd24ed0dc6d1",
   "metadata": {},
   "outputs": [],
   "source": [
    "insert_Retail_Products = \"\"\"INSERT INTO staging.Retail_Products VALUES(?,?,?,?,?,?,?)\"\"\"\n",
    "for _, row in df_Retail_Products.iterrows():\n",
    "    cursor.execute(insert_Retail_Products, row['ProductID'], row['ProductName'],row['CategoryID'],row['BrandID'], row['Description'],row['UnitPrice'],row['UnitsInStock'])\n",
    "\n",
    "cnxn.commit()"
   ]
  },
  {
   "cell_type": "code",
   "execution_count": null,
   "id": "486d54f0-8bb3-4f05-8452-6d979985d93d",
   "metadata": {},
   "outputs": [],
   "source": [
    "insert_Retail_Categories = \"\"\"INSERT INTO staging.Retail_Categories VALUES(?,?,?)\"\"\"\n",
    " \n",
    "for _, row in df_Retail_Categories.iterrows():\n",
    "    cursor.execute(insert_Retail_Categories, row['CategoryID'], row['CategoryName'],row['Description'])\n",
    "\n",
    "cnxn.commit()"
   ]
  },
  {
   "cell_type": "code",
   "execution_count": null,
   "id": "df13f0fc-89c7-4fb8-b1d8-a9419e7f6cac",
   "metadata": {},
   "outputs": [],
   "source": [
    "insert_Retail_Employees = \"\"\"INSERT INTO staging.Retail_Employees VALUES(?,?,?,?,?,?,?)\"\"\"\n",
    "for _, row in df_Retail_Employees.iterrows():\n",
    "    cursor.execute(insert_Retail_Employees, row['EmployeeID'], row['FirstName'],row['LastName'],row['Position'], row['HireDate'],row['ContactNumber'],row['Email'])\n",
    "\n",
    "cnxn.commit()"
   ]
  },
  {
   "cell_type": "code",
   "execution_count": null,
   "id": "3ba9bfb6-ee13-4b17-8c9b-69fac541ebfe",
   "metadata": {},
   "outputs": [],
   "source": [
    "insert_Retail_Customers = \"\"\"INSERT INTO staging.Retail_Customers VALUES(?,?,?,?,?,?,?,?,?,?,?)\"\"\"\n",
    "for _, row in df_Retail_Customers.iterrows():\n",
    "    cursor.execute(insert_Retail_Customers, row['CustomerID'], row['FirstName'],row['LastName'],row['Gender'], row['DateOfBirth'],row['Address'],row['City'],row['State'], row['ZipCode'],row['Phone'],row['Email'])\n",
    "\n",
    "cnxn.commit()"
   ]
  },
  {
   "cell_type": "markdown",
   "id": "7362e8ea-f9e1-4603-99bd-5f465f86e879",
   "metadata": {},
   "source": [
    "# ODS (Operational Data Store) "
   ]
  },
  {
   "cell_type": "markdown",
   "id": "90b13949-b15d-423e-b9e0-59bd9a844e87",
   "metadata": {},
   "source": [
    "### Data Cleaning"
   ]
  },
  {
   "cell_type": "code",
   "execution_count": null,
   "id": "e5a27cd6-5127-4b3f-99a4-8edfd8c6b50e",
   "metadata": {},
   "outputs": [],
   "source": [
    "# Clean phone numbers in the df_Retail_Customers DataFrame by removing non-digits and filtering for exactly 10 digits\n",
    "df_Retail_Customers['Phone'] = df_Retail_Customers['Phone'].str.replace(r'\\D', '', regex=True)\n",
    "df_Retail_Customers['Phone'] = df_Retail_Customers['Phone'].apply(lambda x: x if len(x) == 10 else '0')\n",
    "\n",
    "# Display the cleaned DataFrame\n",
    "print(df_Retail_Customers)"
   ]
  },
  {
   "cell_type": "code",
   "execution_count": null,
   "id": "cf987417-4936-41c6-8e6c-716e8c60369d",
   "metadata": {},
   "outputs": [],
   "source": [
    "# Clean contact numbers in the df_Retail_Employees DataFrame using similar steps as above\n",
    "insert_Retail_Employees = \"\"\"INSERT INTO ods.Retail_Employees VALUES(?,?,?,?,?,?,?)\"\"\"\n",
    "for _, row in df_Retail_Employees.iterrows():\n",
    "    if(row['ContactNumber'] == '0'):\n",
    "        cursor.execute(insert_Retail_Employees, row['EmployeeID'],row['FirstName'],row['LastName'],row['Position'], None ,row['HireDate'],row['Email'])\n",
    "    else:\n",
    "        cursor.execute(insert_Retail_Employees, row['EmployeeID'], row['FirstName'],row['LastName'],row['Position'],row['ContactNumber'] ,row['HireDate'],row['Email'])\n",
    "        \n",
    "cnxn.commit()"
   ]
  },
  {
   "cell_type": "markdown",
   "id": "b031847b-eecf-4c7b-8b2a-45fd65e0a9bf",
   "metadata": {},
   "source": [
    "### Insert Data into ODS Tables"
   ]
  },
  {
   "cell_type": "code",
   "execution_count": null,
   "id": "e784c24c-af64-43bd-a37f-bd77dc5c639c",
   "metadata": {},
   "outputs": [],
   "source": [
    "# Insert data into ods.Retail_Customers table\n",
    "insert_Retail_Customers = \"\"\"INSERT INTO ods.Retail_Customers VALUES(?,?,?,?,?,?,?,?,?,?,?)\"\"\"\n",
    "for _, row in df_Retail_Customers.iterrows():\n",
    "    cursor.execute(insert_Retail_Customers, row['CustomerID'], row['FirstName'],row['LastName'],row['Gender'], row['DateOfBirth'],row['Address'],row['City'],row['State'], row['ZipCode'],row['Phone'],row['Email'])\n",
    "cnxn.commit()"
   ]
  },
  {
   "cell_type": "code",
   "execution_count": null,
   "id": "198f3b7b-0ab9-4112-a5a7-4292e92a660f",
   "metadata": {},
   "outputs": [],
   "source": [
    "# Insert data into ods.Retail_Brands table\n",
    "insert_Retail_Brands = \"\"\"INSERT INTO ods.Retail_Brands VALUES(?,?,?)\"\"\"\n",
    "for _, row in df_Retail_Brands.iterrows():\n",
    "    cursor.execute(insert_Retail_Brands, row['BrandID'], row['BrandName'],row['Description'])\n",
    "cnxn.commit()"
   ]
  },
  {
   "cell_type": "code",
   "execution_count": null,
   "id": "0b93e2d1-2e6b-46b1-b7b4-0e543d0cddcb",
   "metadata": {},
   "outputs": [],
   "source": [
    "# Insert data into ods.Retail_Categories table\n",
    "insert_Retail_Categories = \"\"\"INSERT INTO ods.Retail_Categories VALUES(?,?,?)\"\"\"\n",
    "for _, row in df_Retail_Categories.iterrows():\n",
    "    cursor.execute(insert_Retail_Categories, row['CategoryID'], row['CategoryName'],row['Description'])\n",
    "cnxn.commit()"
   ]
  },
  {
   "cell_type": "code",
   "execution_count": null,
   "id": "d3b3a97a-6140-455f-ad80-605339d10dbd",
   "metadata": {},
   "outputs": [],
   "source": [
    "# Insert data into ods.Retail_Stores table\n",
    "insert_Retail_Stores = \"\"\"INSERT INTO ods.Retail_Stores VALUES(?,?,?,?,?,?,?)\"\"\"\n",
    "for _, row in df_Retail_Stores.iterrows():\n",
    "    cursor.execute(insert_Retail_Stores, row['StoreID'], row['StoreName'],row['Address'],row['City'],row['State'],row['ZipCode'], row['ManagerID'])\n",
    "cnxn.commit()"
   ]
  },
  {
   "cell_type": "code",
   "execution_count": null,
   "id": "f0cf1bb0-2d4b-4e57-b8ab-53918097624b",
   "metadata": {},
   "outputs": [],
   "source": [
    "# Insert data into ods.Retail_Products table\n",
    "insert_Retail_Products = \"\"\"INSERT INTO ods.Retail_Products VALUES(?,?,?,?,?,?,?)\"\"\"\n",
    "for _, row in df_Retail_Products.iterrows():\n",
    "    cursor.execute(insert_Retail_Products, row['ProductID'], row['ProductName'],row['CategoryID'],row['BrandID'], row['Description'],row['UnitPrice'],row['UnitsInStock'])\n",
    "cnxn.commit()"
   ]
  },
  {
   "cell_type": "code",
   "execution_count": null,
   "id": "e82f5b82-9501-4169-9ca3-ca44b0003a0b",
   "metadata": {},
   "outputs": [],
   "source": [
    "# Insert data into ods.Retail_Sales table\n",
    "insert_Retail_Sales = \"\"\"INSERT INTO ods.Retail_Sales VALUES(?,?,?,?,?,?,?,?)\"\"\"\n",
    "for _, row in df_Retail_Sales.iterrows():\n",
    "    cursor.execute(insert_Retail_Sales, row['TransactionID'], row['CustomerID'],row['ProductID'],row['Quantity'],row['UnitPrice'],row['TotalAmount'],row['TransactionDate'], row['StoreID'])\n",
    "cnxn.commit()"
   ]
  },
  {
   "cell_type": "markdown",
   "id": "b913db57-a924-4dd0-a7c8-e0c6d5b49d2b",
   "metadata": {},
   "source": [
    "# DWH (Data Warehouse) "
   ]
  },
  {
   "cell_type": "markdown",
   "id": "e2c7fec3-1503-4035-b2c1-7c785d53aa5f",
   "metadata": {},
   "source": [
    "### Insert Data into DWH Tables"
   ]
  },
  {
   "cell_type": "code",
   "execution_count": null,
   "id": "063db627-1b7a-4ebb-b546-5cd2812265b5",
   "metadata": {},
   "outputs": [],
   "source": [
    "# Insert data into dwh.SalesFact table (Fact Table)\n",
    "insert_Sales_Fact = \"\"\"INSERT INTO dwh.SalesFact VALUES(?,?,?,?,?,?,?,?)\"\"\"\n",
    "for _, row in df_Retail_Sales.iterrows():\n",
    "    cursor.execute(insert_Sales_Fact, row['TransactionID'], row['CustomerID'],row['ProductID'], row['StoreID'],row['Quantity'],row['UnitPrice'], (row['UnitPrice']*row['Quantity']),row['TransactionDate'])\n",
    "\n",
    "cnxn.commit()"
   ]
  },
  {
   "cell_type": "code",
   "execution_count": null,
   "id": "3aa50722-b729-460d-a649-289fdbe65d4f",
   "metadata": {},
   "outputs": [],
   "source": [
    "# Insert data into dwh.EmployeesDim table\n",
    "insert_Emp_dim = \"\"\"INSERT INTO dwh.EmployeesDim VALUES(?,?,?,?,?,?,?)\"\"\"\n",
    "for _, row in df_Retail_Employees.iterrows():\n",
    "    # Check if ContactNumber is '0' (indicating a missing or invalid value)\n",
    "    if (row['ContactNumber'] == '0'):\n",
    "        # If ContactNumber is '0', insert NULL for ContactNumber in the database\n",
    "        cursor.execute(insert_Emp_dim, row['EmployeeID'], row['FirstName'], row['LastName'], row['Position'], row['HireDate'], None, row['Email'])\n",
    "    else:\n",
    "        # Otherwise, insert the ContactNumber value\n",
    "        cursor.execute(insert_Emp_dim, row['EmployeeID'], row['FirstName'], row['LastName'], row['Position'], row['HireDate'], row['ContactNumber'], row['Email'])\n",
    "\n",
    "cnxn.commit()"
   ]
  },
  {
   "cell_type": "code",
   "execution_count": null,
   "id": "97f576c7-b237-4fbf-8557-3241194ac6c0",
   "metadata": {},
   "outputs": [],
   "source": [
    "# Insert data into dwh.CustomersDim table\n",
    "insert_Customers_Dim = \"\"\"INSERT INTO dwh.CustomersDim VALUES(?,?,?,?,?,?,?,?,?,?,?)\"\"\"\n",
    "for _, row in df_Retail_Customers.iterrows():\n",
    "    # Check if Phone number is '0' (indicating a missing or invalid value)\n",
    "    if (row['Phone'] == '0'):\n",
    "        # If Phone number is '0', insert NULL for Phone in the database\n",
    "        cursor.execute(insert_Customers_Dim, row['CustomerID'], row['FirstName'], row['LastName'], row['Gender'], row['DateOfBirth'], row['Address'], row['City'], row['State'], row['ZipCode'], None, row['Email'])\n",
    "    else:\n",
    "        # Otherwise, insert the Phone number value\n",
    "        cursor.execute(insert_Customers_Dim, row['CustomerID'], row['FirstName'], row['LastName'], row['Gender'], row['DateOfBirth'], row['Address'], row['City'], row['State'], row['ZipCode'], row['Phone'], row['Email'])\n",
    "\n",
    "cnxn.commit()"
   ]
  },
  {
   "cell_type": "code",
   "execution_count": null,
   "id": "5f6d229a-c2ac-40fd-8e02-53e3525affee",
   "metadata": {},
   "outputs": [],
   "source": [
    "# Insert data into dwh.StoresDim table\n",
    "insert_Stores_Dim = \"\"\"INSERT INTO dwh.StoresDim VALUES(?,?,?,?,?,?,?)\"\"\"\n",
    "for _, row in df_Retail_Stores.iterrows():\n",
    "    cursor.execute(insert_Stores_Dim, row['StoreID'], row['StoreName'], row['Address'], row['City'], row['State'], row['ZipCode'], row['ManagerID'])\n",
    "\n",
    "cnxn.commit()"
   ]
  },
  {
   "cell_type": "code",
   "execution_count": null,
   "id": "e202c909-db3c-45c3-bda4-96f89027c53b",
   "metadata": {},
   "outputs": [],
   "source": [
    "# Insert data into dwh.SalesFact table\n",
    "insert_Sales_Fact = \"\"\"INSERT INTO dwh.SalesFact VALUES(?,?,?,?,?,?,?,?)\"\"\"\n",
    "for _, row in df_Retail_Sales.iterrows():\n",
    "    cursor.execute(insert_Sales_Fact, row['TransactionID'], row['CustomerID'], row['ProductID'], row['StoreID'], row['Quantity'], row['UnitPrice'], (row['UnitPrice'] * row['Quantity']), row['TransactionDate'])\n",
    "\n",
    "cnxn.commit()"
   ]
  },
  {
   "cell_type": "code",
   "execution_count": null,
   "id": "1cd57db1-e9d3-4c29-895a-78b2c1530fc5",
   "metadata": {},
   "outputs": [],
   "source": [
    "# Insert data into dwh.BrandsDim table\n",
    "insert_Retail_Brands = \"\"\"INSERT INTO dwh.BrandsDim VALUES(?,?)\"\"\"\n",
    "for _, row in df_Retail_Brands.iterrows():\n",
    "    cursor.execute(insert_Retail_Brands, row['BrandID'], row['BrandName'])\n",
    "    \n",
    "cnxn.commit()"
   ]
  },
  {
   "cell_type": "code",
   "execution_count": null,
   "id": "05b4bfe9-45f3-4777-a9bc-f25e5e648d69",
   "metadata": {},
   "outputs": [],
   "source": [
    "# Insert data into dwh.CategoriesDim table\n",
    "insert_CategoriesDim = \"\"\"INSERT INTO dwh.CategoriesDim VALUES (?, ?)\"\"\"\n",
    "for _, row in df_Retail_Categories.iterrows():\n",
    "    cursor.execute(insert_CategoriesDim, row['CategoryID'], row['CategoryName'])\n",
    "\n",
    "cnxn.commit()"
   ]
  },
  {
   "cell_type": "code",
   "execution_count": null,
   "id": "909af238-e707-4e4b-a02c-38e9056a678a",
   "metadata": {},
   "outputs": [],
   "source": [
    "# Insert data into dwh.ProductsDim table\n",
    "insert_ProductsDim = \"\"\"INSERT INTO dwh.ProductsDim VALUES(?,?,?,?,?,?)\"\"\"\n",
    "for _, row in df_Retail_Products.iterrows():\n",
    "    cursor.execute(insert_ProductsDim, row['ProductID'], row['ProductName'], row['CategoryID'], row['BrandID'], row['UnitPrice'], row['UnitsInStock'])\n",
    "\n",
    "cnxn.commit()"
   ]
  },
  {
   "cell_type": "markdown",
   "id": "b028f1a0-036b-4ddf-a3fa-db93a5609abe",
   "metadata": {},
   "source": [
    "# Close Database Connection"
   ]
  },
  {
   "cell_type": "code",
   "execution_count": null,
   "id": "2f658b6a-66b1-4a08-8c4d-049291ba000e",
   "metadata": {},
   "outputs": [],
   "source": [
    "# Close the connection to the SQL Server\n",
    "cnxn.close()"
   ]
  },
  {
   "cell_type": "code",
   "execution_count": null,
   "id": "2c7ab0c7-7e0a-44e6-b2a8-e01350db8f47",
   "metadata": {},
   "outputs": [],
   "source": []
  }
 ],
 "metadata": {
  "kernelspec": {
   "display_name": "Python 3 (ipykernel)",
   "language": "python",
   "name": "python3"
  },
  "language_info": {
   "codemirror_mode": {
    "name": "ipython",
    "version": 3
   },
   "file_extension": ".py",
   "mimetype": "text/x-python",
   "name": "python",
   "nbconvert_exporter": "python",
   "pygments_lexer": "ipython3",
   "version": "3.11.7"
  }
 },
 "nbformat": 4,
 "nbformat_minor": 5
}
